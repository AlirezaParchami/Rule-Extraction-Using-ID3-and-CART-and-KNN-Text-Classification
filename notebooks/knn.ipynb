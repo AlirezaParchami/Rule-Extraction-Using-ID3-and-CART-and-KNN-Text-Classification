{
 "cells": [
  {
   "cell_type": "markdown",
   "metadata": {},
   "source": [
    "# Read Data and Fill Missing Values"
   ]
  },
  {
   "cell_type": "code",
   "execution_count": 1,
   "metadata": {},
   "outputs": [],
   "source": [
    "import pandas as pd\n",
    "\n",
    "data = pd.read_csv('../data/agaricus-lepiota.data', sep=\",\", header=None)\n",
    "random\n",
    "for col in data.columns:\n",
    "        mod = data[col].mode()[0]\n",
    "        data[col] = data[col].replace('?', mod)"
   ]
  },
  {
   "cell_type": "markdown",
   "metadata": {},
   "source": [
    "# Convert Nominal Data To Numeric"
   ]
  },
  {
   "cell_type": "code",
   "execution_count": 2,
   "metadata": {},
   "outputs": [],
   "source": [
    "obj_cols = data.select_dtypes(['object']).columns\n",
    "data[obj_cols] = data[obj_cols].astype('category')\n",
    "cat_cols = data.select_dtypes(['category']).columns\n",
    "data[cat_cols] = data[cat_cols].apply(lambda x: x.cat.codes)"
   ]
  },
  {
   "cell_type": "markdown",
   "metadata": {},
   "source": [
    "# Holdout"
   ]
  },
  {
   "cell_type": "code",
   "execution_count": 3,
   "metadata": {},
   "outputs": [],
   "source": [
    "import math\n",
    "import random\n",
    "\n",
    "test_set_size = math.floor(len(data.index) / 3)\n",
    "test_set_indexes = random.sample(range(0,len(data.index)), test_set_size)\n",
    "test_set = pd.DataFrame(data, index=test_set_indexes)\n",
    "train_set = data.drop(test_set_indexes)"
   ]
  },
  {
   "cell_type": "markdown",
   "metadata": {},
   "source": [
    "# Run KNN"
   ]
  },
  {
   "cell_type": "code",
   "execution_count": 4,
   "metadata": {
    "scrolled": true
   },
   "outputs": [
    {
     "data": {
      "text/plain": [
       "KNeighborsClassifier(algorithm='auto', leaf_size=30, metric='minkowski',\n",
       "           metric_params=None, n_jobs=None, n_neighbors=3, p=2,\n",
       "           weights='uniform')"
      ]
     },
     "execution_count": 4,
     "metadata": {},
     "output_type": "execute_result"
    }
   ],
   "source": [
    "from sklearn.neighbors import KNeighborsClassifier\n",
    "\n",
    "training_set_data = (pd.DataFrame(train_set, columns=range(1, len(train_set.columns)))).values.tolist()\n",
    "training_set_result = (pd.DataFrame(train_set, columns=[0])).values.tolist()\n",
    "# training_set_result reformat\n",
    "tsr_reformat = []\n",
    "for i in range(0, len(training_set_result)):\n",
    "    tsr_reformat.append(training_set_result[i][0])\n",
    "knn = KNeighborsClassifier(n_neighbors=3)\n",
    "knn.fit(training_set_data, tsr_reformat)"
   ]
  },
  {
   "cell_type": "markdown",
   "metadata": {},
   "source": [
    "# Test Model"
   ]
  },
  {
   "cell_type": "code",
   "execution_count": 5,
   "metadata": {},
   "outputs": [
    {
     "name": "stdout",
     "output_type": "stream",
     "text": [
      "Precision =  1.0\n",
      "Recall =  0.9985107967237528\n",
      "fscore(beta=1) =  0.9992548435171386\n"
     ]
    }
   ],
   "source": [
    "from sklearn.metrics import precision_recall_fscore_support\n",
    "\n",
    "testing_set_data = (pd.DataFrame(test_set, columns=range(1, len(test_set.columns)))).values.tolist()\n",
    "testing_set_result = (pd.DataFrame(test_set, columns=[0])).values.tolist()\n",
    "predicted = knn.predict(testing_set_data)\n",
    "precision, recall, fscore = (precision_recall_fscore_support(testing_set_result, predicted, beta=1, average='binary'))[0:3]\n",
    "print(\"Precision = \", precision)\n",
    "print(\"Recall = \", recall)\n",
    "print(\"fscore(beta=1) = \", fscore)"
   ]
  }
 ],
 "metadata": {
  "kernelspec": {
   "display_name": "Python 3",
   "language": "python",
   "name": "python3"
  },
  "language_info": {
   "codemirror_mode": {
    "name": "ipython",
    "version": 3
   },
   "file_extension": ".py",
   "mimetype": "text/x-python",
   "name": "python",
   "nbconvert_exporter": "python",
   "pygments_lexer": "ipython3",
   "version": "3.6.7"
  }
 },
 "nbformat": 4,
 "nbformat_minor": 1
}
